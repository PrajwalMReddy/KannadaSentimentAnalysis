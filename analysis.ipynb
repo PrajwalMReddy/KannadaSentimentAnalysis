{
 "cells": [
  {
   "cell_type": "code",
   "execution_count": 460,
   "outputs": [],
   "source": [
    "import json\n",
    "import os"
   ],
   "metadata": {
    "collapsed": false
   }
  },
  {
   "cell_type": "code",
   "execution_count": 461,
   "outputs": [],
   "source": [
    "from nltk.sentiment import SentimentIntensityAnalyzer"
   ],
   "metadata": {
    "collapsed": false
   }
  },
  {
   "cell_type": "code",
   "execution_count": 462,
   "outputs": [],
   "source": [
    "minLikes = 10000000\n",
    "maxLikes = 0\n",
    "\n",
    "minReplies = 10000000\n",
    "maxReplies = 0\n",
    "\n",
    "minRetweets = 10000000\n",
    "maxRetweets = 0"
   ],
   "metadata": {
    "collapsed": false
   }
  },
  {
   "cell_type": "code",
   "execution_count": 463,
   "metadata": {},
   "outputs": [],
   "source": [
    "# Utility Method To Find All Politicians Whose Tweets Are Available\n",
    "\n",
    "def get_politicians():\n",
    "    path = \"tweets-test\"\n",
    "    folders = [folder for folder in os.listdir(path) if os.path.isdir(os.path.join(path, folder))]\n",
    "\n",
    "    for folder in folders:\n",
    "        yield folder"
   ]
  },
  {
   "cell_type": "code",
   "execution_count": 464,
   "metadata": {},
   "outputs": [],
   "source": [
    "# Utility Method To Find All The Available Tweets From A Given Politician\n",
    "\n",
    "def get_politicians_tweets(politician):\n",
    "    global maxLikes\n",
    "    global minLikes\n",
    "\n",
    "    global maxReplies\n",
    "    global minReplies\n",
    "\n",
    "    global maxRetweets\n",
    "    global minRetweets\n",
    "\n",
    "    path = f\"tweets-test/{politician}\"\n",
    "    tweets = []\n",
    "\n",
    "    for filename in os.listdir(path):\n",
    "        file_path = os.path.join(path, filename)\n",
    "\n",
    "        if os.path.isfile(file_path):\n",
    "            with open(file_path, 'r', encoding=\"utf-8\") as file:\n",
    "                data = json.load(file)\n",
    "\n",
    "                if data[\"Likes\"] > maxLikes:\n",
    "                    maxLikes = data[\"Likes\"]\n",
    "                elif data[\"Likes\"] < minLikes:\n",
    "                    minLikes = data[\"Likes\"]\n",
    "\n",
    "                if data[\"Replies\"] > maxReplies:\n",
    "                    maxReplies = data[\"Replies\"]\n",
    "                elif data[\"Replies\"] < minReplies:\n",
    "                    minReplies = data[\"Replies\"]\n",
    "\n",
    "                if data[\"Retweets\"] > maxRetweets:\n",
    "                    maxRetweets = data[\"Retweets\"]\n",
    "                elif data[\"Retweets\"] < minRetweets:\n",
    "                    minRetweets = data[\"Retweets\"]\n",
    "\n",
    "                tweets.append(data)\n",
    "\n",
    "    return tweets"
   ]
  },
  {
   "cell_type": "code",
   "execution_count": 465,
   "outputs": [],
   "source": [
    "def sentiment_polarity(text):\n",
    "    sia = SentimentIntensityAnalyzer()\n",
    "\n",
    "    score = sia.polarity_scores(text)\n",
    "    key = list(score.keys())[list(score.values()).index(max(list(score.values())[:len(score) - 1]))]\n",
    "\n",
    "    return score, key"
   ],
   "metadata": {
    "collapsed": false
   }
  },
  {
   "cell_type": "code",
   "execution_count": 466,
   "metadata": {},
   "outputs": [],
   "source": [
    "def calculate_score(json_tweet):\n",
    "    score, key = sentiment_polarity(json_tweet[\"Tweet\"])\n",
    "    # The Sentiment Polarity Is Worth 25% Of The Total Score\n",
    "    # The Sentiment Polarity Also Cannot Be Negative\n",
    "    sent_pol = (score[\"pos\"] - score[\"neg\"]) if (score[\"pos\"] - score[\"neg\"]) > 0 else 0\n",
    "\n",
    "    likes_score = (json_tweet[\"Likes\"] - minLikes) / (maxLikes - minLikes)  # Scales The Likes Score To The Range Of 0.0 to 1.0\n",
    "    replies_score = (json_tweet[\"Replies\"] - minReplies) / (maxReplies - minReplies)  # Scales The Replies Score To The Range Of 0.0 to 1.0\n",
    "    retweets_score = (json_tweet[\"Retweets\"] - minRetweets) / (maxRetweets - minRetweets)  # Scales The Retweets Score To The Range Of 0.0 to 1.0\n",
    "\n",
    "    total_score = 25 * (sent_pol + likes_score + replies_score + retweets_score)  # The Final Total Score Is From 0.0 to 100.0\n",
    "    return total_score"
   ]
  },
  {
   "cell_type": "code",
   "execution_count": 467,
   "metadata": {},
   "outputs": [],
   "source": [
    "def analyze_politician(politician):\n",
    "    total_score = 0\n",
    "    tweet_count = 0\n",
    "    all_politicians_tweets = get_politicians_tweets(politician)\n",
    "\n",
    "    for tweet in all_politicians_tweets:\n",
    "        total_score += calculate_score(tweet)\n",
    "        tweet_count += 1\n",
    "\n",
    "    avg_score = total_score / tweet_count\n",
    "\n",
    "    return avg_score"
   ]
  },
  {
   "cell_type": "code",
   "execution_count": 468,
   "outputs": [],
   "source": [
    "def store_results(results):\n",
    "    with open(\"./results.json\", \"w+\") as file:\n",
    "        json.dump(results, file)"
   ],
   "metadata": {
    "collapsed": false
   }
  },
  {
   "cell_type": "code",
   "execution_count": 469,
   "metadata": {},
   "outputs": [],
   "source": [
    "def analyze():\n",
    "    scores = {}\n",
    "    all_politicians = get_politicians()\n",
    "\n",
    "    while True:\n",
    "        try:\n",
    "            politician = next(all_politicians)\n",
    "            scores.update({ politician: analyze_politician(politician) })\n",
    "\n",
    "        except StopIteration:\n",
    "            break\n",
    "\n",
    "    store_results(scores)"
   ]
  },
  {
   "cell_type": "code",
   "execution_count": 470,
   "outputs": [],
   "source": [
    "def conclude():\n",
    "    pass"
   ],
   "metadata": {
    "collapsed": false
   }
  },
  {
   "cell_type": "code",
   "execution_count": 471,
   "metadata": {},
   "outputs": [],
   "source": [
    "def main():\n",
    "    analyze()\n",
    "    conclude()\n",
    "\n",
    "\n",
    "if __name__ == '__main__':\n",
    "    main()"
   ]
  }
 ],
 "metadata": {
  "kernelspec": {
   "display_name": "Python 3 (ipykernel)",
   "language": "python",
   "name": "python3"
  },
  "language_info": {
   "codemirror_mode": {
    "name": "ipython",
    "version": 3
   },
   "file_extension": ".py",
   "mimetype": "text/x-python",
   "name": "python",
   "nbconvert_exporter": "python",
   "pygments_lexer": "ipython3",
   "version": "3.9.12"
  },
  "vscode": {
   "interpreter": {
    "hash": "6e358ab14436f20fa8adfe44b92a4021a1658e80e4db4753088016b8d9937371"
   }
  }
 },
 "nbformat": 4,
 "nbformat_minor": 2
}
