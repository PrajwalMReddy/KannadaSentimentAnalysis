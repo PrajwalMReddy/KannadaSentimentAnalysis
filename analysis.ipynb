{
 "cells": [
  {
   "cell_type": "code",
   "execution_count": 673,
   "outputs": [],
   "source": [
    "import os\n",
    "import json"
   ],
   "metadata": {
    "collapsed": false
   }
  },
  {
   "cell_type": "code",
   "execution_count": 674,
   "outputs": [],
   "source": [
    "from nltk.sentiment import SentimentIntensityAnalyzer\n",
    "from translate import Translator"
   ],
   "metadata": {
    "collapsed": false
   }
  },
  {
   "cell_type": "code",
   "execution_count": 675,
   "outputs": [],
   "source": [
    "minLikes = 10000000\n",
    "maxLikes = 0\n",
    "\n",
    "minReplies = 10000000\n",
    "maxReplies = 0\n",
    "\n",
    "minRetweets = 10000000\n",
    "maxRetweets = 0"
   ],
   "metadata": {
    "collapsed": false
   }
  },
  {
   "cell_type": "code",
   "execution_count": 676,
   "metadata": {},
   "outputs": [],
   "source": [
    "# Utility Method To Find All Politicians Whose Tweets Are Available\n",
    "\n",
    "def get_politicians():\n",
    "    path = \"tweets-test\"\n",
    "    folders = [folder for folder in os.listdir(path) if os.path.isdir(os.path.join(path, folder))]\n",
    "\n",
    "    for folder in folders:\n",
    "        yield folder"
   ]
  },
  {
   "cell_type": "code",
   "execution_count": 677,
   "metadata": {},
   "outputs": [],
   "source": [
    "# Utility Method To Find All The Available Tweets From A Given Politician\n",
    "\n",
    "def get_politicians_tweets(politician):\n",
    "    global maxLikes\n",
    "    global minLikes\n",
    "\n",
    "    global maxReplies\n",
    "    global minReplies\n",
    "\n",
    "    global maxRetweets\n",
    "    global minRetweets\n",
    "\n",
    "    path = f\"tweets-test/{politician}\"\n",
    "    tweets = []\n",
    "\n",
    "    for filename in os.listdir(path):\n",
    "        file_path = os.path.join(path, filename)\n",
    "\n",
    "        if os.path.isfile(file_path):\n",
    "            with open(file_path, 'r', encoding=\"utf-8\") as file:\n",
    "                data = json.load(file)\n",
    "\n",
    "                if data[\"Likes\"] > maxLikes:\n",
    "                    maxLikes = data[\"Likes\"]\n",
    "                elif data[\"Likes\"] < minLikes:\n",
    "                    minLikes = data[\"Likes\"]\n",
    "\n",
    "                if data[\"Replies\"] > maxReplies:\n",
    "                    maxReplies = data[\"Replies\"]\n",
    "                elif data[\"Replies\"] < minReplies:\n",
    "                    minReplies = data[\"Replies\"]\n",
    "\n",
    "                if data[\"Retweets\"] > maxRetweets:\n",
    "                    maxRetweets = data[\"Retweets\"]\n",
    "                elif data[\"Retweets\"] < minRetweets:\n",
    "                    minRetweets = data[\"Retweets\"]\n",
    "\n",
    "                tweets.append(data)\n",
    "\n",
    "    return tweets"
   ]
  },
  {
   "cell_type": "code",
   "execution_count": 678,
   "outputs": [],
   "source": [
    "def sentiment_polarity(text):\n",
    "    sia = SentimentIntensityAnalyzer()\n",
    "\n",
    "    score = sia.polarity_scores(text)\n",
    "    key = list(score.keys())[list(score.values()).index(max(list(score.values())[:len(score) - 1]))]\n",
    "\n",
    "    return score, key"
   ],
   "metadata": {
    "collapsed": false
   }
  },
  {
   "cell_type": "code",
   "execution_count": 679,
   "outputs": [],
   "source": [
    "def translate_text(json_tweet):\n",
    "    if json_tweet[\"Language\"] != \"kn\":\n",
    "        return json_tweet[\"Tweet\"]\n",
    "\n",
    "    translator = Translator(to_lang=\"en\")\n",
    "    translation = translator.translate(json_tweet[\"Tweet\"])\n",
    "\n",
    "    return translation"
   ],
   "metadata": {
    "collapsed": false
   }
  },
  {
   "cell_type": "code",
   "execution_count": 680,
   "metadata": {},
   "outputs": [],
   "source": [
    "def calculate_score(json_tweet):\n",
    "    text = json_tweet[\"Tweet\"]\n",
    "\n",
    "    if json_tweet[\"Language\"] != \"en\":\n",
    "        text = translate_text(json_tweet)\n",
    "\n",
    "    score, key = sentiment_polarity(text)\n",
    "\n",
    "    # The Sentiment Polarity Is Worth 25% Of The Total Score\n",
    "    # The Sentiment Polarity Also Cannot Be Negative\n",
    "    sent_pol = (score[\"pos\"] - score[\"neg\"]) if (score[\"pos\"] - score[\"neg\"]) > 0 else 0\n",
    "\n",
    "    likes_score = (json_tweet[\"Likes\"] - minLikes) / (maxLikes - minLikes)  # Scales The Likes Score To The Range Of 0.0 to 1.0\n",
    "    replies_score = (json_tweet[\"Replies\"] - minReplies) / (maxReplies - minReplies)  # Scales The Replies Score To The Range Of 0.0 to 1.0\n",
    "    retweets_score = (json_tweet[\"Retweets\"] - minRetweets) / (maxRetweets - minRetweets)  # Scales The Retweets Score To The Range Of 0.0 to 1.0\n",
    "\n",
    "    total_score = 25 * (sent_pol + likes_score + replies_score + retweets_score)  # The Final Total Score Is From 0.0 to 100.0\n",
    "    return total_score"
   ]
  },
  {
   "cell_type": "code",
   "execution_count": 681,
   "metadata": {},
   "outputs": [],
   "source": [
    "def analyze_politician(politician):\n",
    "    total_score = 0\n",
    "    tweet_count = 0\n",
    "    all_politicians_tweets = get_politicians_tweets(politician)\n",
    "\n",
    "    for tweet in all_politicians_tweets:\n",
    "        total_score += calculate_score(tweet)\n",
    "        tweet_count += 1\n",
    "\n",
    "    avg_score = total_score / tweet_count if tweet_count != 0 else 0\n",
    "\n",
    "    return avg_score"
   ]
  },
  {
   "cell_type": "code",
   "execution_count": 682,
   "outputs": [],
   "source": [
    "def store_results(results):\n",
    "    with open(\"./results.json\", \"w+\") as file:\n",
    "        json.dump(results, file)"
   ],
   "metadata": {
    "collapsed": false
   }
  },
  {
   "cell_type": "code",
   "execution_count": 683,
   "metadata": {},
   "outputs": [],
   "source": [
    "def analyze():\n",
    "    scores = {}\n",
    "    all_politicians = get_politicians()\n",
    "\n",
    "    while True:\n",
    "        try:\n",
    "            politician = next(all_politicians)\n",
    "            scores.update({ politician: analyze_politician(politician) })\n",
    "\n",
    "        except StopIteration:\n",
    "            break\n",
    "\n",
    "    store_results(scores)"
   ]
  },
  {
   "cell_type": "code",
   "execution_count": 684,
   "outputs": [],
   "source": [
    "class CandidatePair:\n",
    "    def __init__(self, candidate1, candidate2, predicted1, predicted2):\n",
    "        self.candidate1 = candidate1\n",
    "        self.candidate2 = candidate2\n",
    "        self.predicted1 = predicted1\n",
    "        self.predicted2 = predicted2\n",
    "\n",
    "\n",
    "    def __repr__(self):\n",
    "        return f\"{self.candidate1}: {self.predicted1} | {self.candidate2}: {self.predicted2} {'✔️' if self.is_correct_prediction() else '❌'}\"\n",
    "\n",
    "\n",
    "    def is_correct_prediction(self):\n",
    "        if self.predicted1 > self.predicted2:\n",
    "            return True\n",
    "        else:\n",
    "            return False"
   ],
   "metadata": {
    "collapsed": false
   }
  },
  {
   "cell_type": "code",
   "execution_count": 685,
   "outputs": [],
   "source": [
    "def conclude():\n",
    "    with open(\"./settings.json\", 'r', encoding=\"utf-8\") as file:\n",
    "        settings = json.load(file)\n",
    "\n",
    "    with open(\"./results.json\", 'r', encoding=\"utf-8\") as file:\n",
    "        results = json.load(file)\n",
    "\n",
    "    candidates = settings[\"Candidates\"]\n",
    "    candidatePairs = []\n",
    "\n",
    "    for i in range(0, len(candidates), 2):\n",
    "        if candidates[i][\"Name\"] in results.keys() and candidates[i + 1][\"Name\"] in results.keys():\n",
    "            candidatePairs.append(CandidatePair(candidates[i][\"Name\"], candidates[i + 1][\"Name\"], results[candidates[i][\"Name\"]], results[candidates[i + 1][\"Name\"]]))\n",
    "\n",
    "    correct_predictions = 0\n",
    "    total_predictions = len(candidatePairs)\n",
    "\n",
    "    print(\"All Predicted Pairs:\")\n",
    "    for pair in candidatePairs:\n",
    "        print(pair)\n",
    "\n",
    "        if pair.is_correct_prediction():\n",
    "            correct_predictions += 1\n",
    "\n",
    "    print(f\"\\n\"\n",
    "          f\"Total Correct Pairs: {correct_predictions}\\n\"\n",
    "          f\"Total Pairs: {total_predictions}\\n\"\n",
    "          f\"Accuracy: {(correct_predictions / total_predictions) * 100 if total_predictions != 0 else 0}%\")"
   ],
   "metadata": {
    "collapsed": false
   }
  },
  {
   "cell_type": "code",
   "execution_count": 686,
   "metadata": {},
   "outputs": [
    {
     "name": "stdout",
     "output_type": "stream",
     "text": [
      "All Predicted Pairs:\n",
      "Lalaji Mendon: 2.137902556546091 | Vinay Kumar Sorake: 6.048017482811028 ❌\n",
      "GT Devegowda: 0.7735458865393101 | Siddaramaiah: 11.680962223980194 ❌\n",
      "H.D. Kumaraswamy: 9.895118157972615 | C. P. Yogeeshwara: 4.403235653235654 ✔️\n",
      "G. H. Thippareddy: 0.7831229765229235 | K. C. Veerendra: 0.21005612034933646 ✔️\n",
      "L. Nagendra: 1.4490591683834202 | Vasu: 1.3060958307631136 ✔️\n",
      "Dr. C.N. Ashwath Narayan: 2.7678177218178335 | Kengal Shreepadha Renu: 1.8671030810533844 ✔️\n",
      "Dinesh Gundu Rao: 17.369325245227508 | A. R. Sapthagiri Gowda: 8.49341817186645 ✔️\n",
      "Ramalinga Reddy: 3.978617494820724 | Lallesh Reddy: 2.19524430287819 ✔️\n",
      "\n",
      "Total Correct Pairs: 6\n",
      "Total Pairs: 8\n",
      "Accuracy: 75.0%\n"
     ]
    }
   ],
   "source": [
    "def main():\n",
    "    analyze()\n",
    "    conclude()\n",
    "\n",
    "\n",
    "if __name__ == '__main__':\n",
    "    main()"
   ]
  }
 ],
 "metadata": {
  "kernelspec": {
   "display_name": "Python 3 (ipykernel)",
   "language": "python",
   "name": "python3"
  },
  "language_info": {
   "codemirror_mode": {
    "name": "ipython",
    "version": 3
   },
   "file_extension": ".py",
   "mimetype": "text/x-python",
   "name": "python",
   "nbconvert_exporter": "python",
   "pygments_lexer": "ipython3",
   "version": "3.9.12"
  },
  "vscode": {
   "interpreter": {
    "hash": "6e358ab14436f20fa8adfe44b92a4021a1658e80e4db4753088016b8d9937371"
   }
  }
 },
 "nbformat": 4,
 "nbformat_minor": 2
}
