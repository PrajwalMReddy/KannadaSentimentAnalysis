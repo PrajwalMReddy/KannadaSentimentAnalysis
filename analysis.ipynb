{
 "cells": [
  {
   "cell_type": "code",
   "execution_count": 82,
   "outputs": [],
   "source": [
    "import json\n",
    "import os\n",
    "import random"
   ],
   "metadata": {
    "collapsed": false
   }
  },
  {
   "cell_type": "code",
   "execution_count": 83,
   "metadata": {},
   "outputs": [],
   "source": [
    "# Utility Method To Find All Politicians Whose Tweets Are Available\n",
    "\n",
    "def get_politicians():\n",
    "    path = \"tweets-test\"\n",
    "    folders = [folder for folder in os.listdir(path) if os.path.isdir(os.path.join(path, folder))]\n",
    "\n",
    "    for folder in folders:\n",
    "        yield folder"
   ]
  },
  {
   "cell_type": "code",
   "execution_count": 84,
   "metadata": {},
   "outputs": [],
   "source": [
    "# Utility Method To Find All The Available Tweets From A Given Politician\n",
    "\n",
    "def get_politicians_tweets(politician):\n",
    "    path = f\"tweets-test/{politician}\"\n",
    "    tweets = []\n",
    "\n",
    "    for filename in os.listdir(path):\n",
    "        file_path = os.path.join(path, filename)\n",
    "\n",
    "        if os.path.isfile(file_path):\n",
    "            with open(file_path, 'r', encoding=\"utf-8\") as file:\n",
    "                data = json.load(file)\n",
    "                tweets.append(data)\n",
    "\n",
    "    for tweet in tweets:\n",
    "        yield tweet"
   ]
  },
  {
   "cell_type": "code",
   "execution_count": 85,
   "metadata": {},
   "outputs": [],
   "source": [
    "def calculate_score(json_tweet):\n",
    "    return random.randint(0, 1000)  # TODO Temporary Return Value"
   ]
  },
  {
   "cell_type": "code",
   "execution_count": 86,
   "metadata": {},
   "outputs": [],
   "source": [
    "def analyze_politician(politician):\n",
    "    scores = []\n",
    "    all_politicians_tweets = get_politicians_tweets(politician)\n",
    "\n",
    "    count = 0\n",
    "\n",
    "    while True:\n",
    "        try:\n",
    "            json_data = next(all_politicians_tweets)\n",
    "            scores.append(calculate_score(json_data))\n",
    "\n",
    "            count += 1\n",
    "\n",
    "        except StopIteration:\n",
    "            break\n",
    "\n",
    "    tweets_sum = sum(scores)\n",
    "    avg_score = tweets_sum / count\n",
    "\n",
    "    return avg_score"
   ]
  },
  {
   "cell_type": "code",
   "execution_count": 87,
   "outputs": [],
   "source": [
    "def store_results(results):\n",
    "    with open(\"./results.json\", \"w+\") as file:\n",
    "        json.dump(results, file)"
   ],
   "metadata": {
    "collapsed": false
   }
  },
  {
   "cell_type": "code",
   "execution_count": 88,
   "metadata": {},
   "outputs": [],
   "source": [
    "def analyze():\n",
    "    scores = {}\n",
    "    all_politicians = get_politicians()\n",
    "\n",
    "    while True:\n",
    "        try:\n",
    "            politician = next(all_politicians)\n",
    "            scores.update({ politician: analyze_politician(politician) })\n",
    "\n",
    "        except StopIteration:\n",
    "            break\n",
    "\n",
    "    store_results(scores)\n",
    "    print(scores)  # TODO Temporary Print Statement"
   ]
  },
  {
   "cell_type": "code",
   "execution_count": 89,
   "outputs": [],
   "source": [
    "def conclude():\n",
    "    pass"
   ],
   "metadata": {
    "collapsed": false
   }
  },
  {
   "cell_type": "code",
   "execution_count": 90,
   "metadata": {},
   "outputs": [
    {
     "name": "stdout",
     "output_type": "stream",
     "text": [
      "{'GT Devegowda': 531.0338983050848, 'Lalaji Mendon': 499.2857142857143, 'R Sampath Raj': 501.65, 'Siddaramaiah': 483.975, 'Vinay Kumar Sorake': 566.0}\n"
     ]
    }
   ],
   "source": [
    "def main():\n",
    "    analyze()\n",
    "    conclude()\n",
    "\n",
    "\n",
    "if __name__ == '__main__':\n",
    "    main()"
   ]
  }
 ],
 "metadata": {
  "kernelspec": {
   "display_name": "Python 3 (ipykernel)",
   "language": "python",
   "name": "python3"
  },
  "language_info": {
   "codemirror_mode": {
    "name": "ipython",
    "version": 3
   },
   "file_extension": ".py",
   "mimetype": "text/x-python",
   "name": "python",
   "nbconvert_exporter": "python",
   "pygments_lexer": "ipython3",
   "version": "3.9.12"
  },
  "vscode": {
   "interpreter": {
    "hash": "6e358ab14436f20fa8adfe44b92a4021a1658e80e4db4753088016b8d9937371"
   }
  }
 },
 "nbformat": 4,
 "nbformat_minor": 2
}
